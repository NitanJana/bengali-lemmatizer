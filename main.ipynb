{
 "cells": [
  {
   "cell_type": "code",
   "execution_count": 1,
   "id": "44fe4e0c",
   "metadata": {},
   "outputs": [
    {
     "name": "stderr",
     "output_type": "stream",
     "text": [
      "[nltk_data] Downloading package punkt to\n",
      "[nltk_data]     C:\\Users\\soubhik\\AppData\\Roaming\\nltk_data...\n",
      "[nltk_data]   Package punkt is already up-to-date!\n"
     ]
    },
    {
     "data": {
      "text/plain": [
       "True"
      ]
     },
     "execution_count": 1,
     "metadata": {},
     "output_type": "execute_result"
    }
   ],
   "source": [
    "import pandas as pd\n",
    "import numpy as np\n",
    "from translate import Translator\n",
    "import nltk\n",
    "nltk.download('punkt')"
   ]
  },
  {
   "cell_type": "code",
   "execution_count": 2,
   "id": "83fd716a",
   "metadata": {},
   "outputs": [],
   "source": [
    "from translate import Translator\n",
    "translator = Translator(from_lang=\"bn\",to_lang=\"en\")"
   ]
  },
  {
   "cell_type": "code",
   "execution_count": 3,
   "id": "0f92e6f5",
   "metadata": {},
   "outputs": [],
   "source": [
    "def LCstring(X, Y):\n",
    "    m=len(X)\n",
    "    n=len(Y)\n",
    "    LCSuff = [[0 for k in range(n+1)] for l in range(m+1)]\n",
    "    result = 0\n",
    "    for i in range(m + 1):\n",
    "        for j in range(n + 1):\n",
    "            if (i == 0 or j == 0):\n",
    "                LCSuff[i][j] = 0\n",
    "            elif (X[i-1] == Y[j-1]):\n",
    "                LCSuff[i][j] = LCSuff[i-1][j-1] + 1\n",
    "                result = max(result, LCSuff[i][j])\n",
    "            else:\n",
    "                LCSuff[i][j] = 0\n",
    "    return result"
   ]
  },
  {
   "cell_type": "code",
   "execution_count": 4,
   "id": "698fc40a",
   "metadata": {},
   "outputs": [],
   "source": [
    "def LCsequence(X, Y):\n",
    "    # find the length of the strings\n",
    "    m = len(X)\n",
    "    n = len(Y)\n",
    "\n",
    "    # declaring the array for storing the dp values\n",
    "    L = [[None]*(n + 1) for i in range(m + 1)]\n",
    "\n",
    "    \"\"\"Following steps build L[m + 1][n + 1] in bottom up fashion\n",
    "    Note: L[i][j] contains length of LCS of X[0..i-1]\n",
    "    and Y[0..j-1]\"\"\"\n",
    "    for i in range(m + 1):\n",
    "        for j in range(n + 1):\n",
    "            if i == 0 or j == 0 :\n",
    "                L[i][j] = 0\n",
    "            elif X[i-1] == Y[j-1]:\n",
    "                L[i][j] = L[i-1][j-1]+1\n",
    "            else:\n",
    "                L[i][j] = max(L[i-1][j], L[i][j-1])\n",
    "    return L[m][n]\n"
   ]
  },
  {
   "cell_type": "code",
   "execution_count": 5,
   "id": "d2c80839",
   "metadata": {},
   "outputs": [
    {
     "ename": "ImportError",
     "evalue": "Missing optional dependency 'openpyxl'.  Use pip or conda to install openpyxl.",
     "output_type": "error",
     "traceback": [
      "\u001b[1;31m---------------------------------------------------------------------------\u001b[0m",
      "\u001b[1;31mModuleNotFoundError\u001b[0m                       Traceback (most recent call last)",
      "File \u001b[1;32mc:\\Users\\soubhik\\AppData\\Local\\Programs\\Python\\Python311\\Lib\\site-packages\\pandas\\compat\\_optional.py:142\u001b[0m, in \u001b[0;36mimport_optional_dependency\u001b[1;34m(name, extra, errors, min_version)\u001b[0m\n\u001b[0;32m    141\u001b[0m \u001b[39mtry\u001b[39;00m:\n\u001b[1;32m--> 142\u001b[0m     module \u001b[39m=\u001b[39m importlib\u001b[39m.\u001b[39;49mimport_module(name)\n\u001b[0;32m    143\u001b[0m \u001b[39mexcept\u001b[39;00m \u001b[39mImportError\u001b[39;00m:\n",
      "File \u001b[1;32mc:\\Users\\soubhik\\AppData\\Local\\Programs\\Python\\Python311\\Lib\\importlib\\__init__.py:126\u001b[0m, in \u001b[0;36mimport_module\u001b[1;34m(name, package)\u001b[0m\n\u001b[0;32m    125\u001b[0m         level \u001b[39m+\u001b[39m\u001b[39m=\u001b[39m \u001b[39m1\u001b[39m\n\u001b[1;32m--> 126\u001b[0m \u001b[39mreturn\u001b[39;00m _bootstrap\u001b[39m.\u001b[39;49m_gcd_import(name[level:], package, level)\n",
      "File \u001b[1;32m<frozen importlib._bootstrap>:1206\u001b[0m, in \u001b[0;36m_gcd_import\u001b[1;34m(name, package, level)\u001b[0m\n",
      "File \u001b[1;32m<frozen importlib._bootstrap>:1178\u001b[0m, in \u001b[0;36m_find_and_load\u001b[1;34m(name, import_)\u001b[0m\n",
      "File \u001b[1;32m<frozen importlib._bootstrap>:1142\u001b[0m, in \u001b[0;36m_find_and_load_unlocked\u001b[1;34m(name, import_)\u001b[0m\n",
      "\u001b[1;31mModuleNotFoundError\u001b[0m: No module named 'openpyxl'",
      "\nDuring handling of the above exception, another exception occurred:\n",
      "\u001b[1;31mImportError\u001b[0m                               Traceback (most recent call last)",
      "Cell \u001b[1;32mIn[5], line 2\u001b[0m\n\u001b[0;32m      1\u001b[0m \u001b[39m#fetch suffix\u001b[39;00m\n\u001b[1;32m----> 2\u001b[0m suffix\u001b[39m=\u001b[39mpd\u001b[39m.\u001b[39;49mread_excel(\u001b[39m'\u001b[39;49m\u001b[39msuffix_set.xlsx\u001b[39;49m\u001b[39m'\u001b[39;49m)\n\u001b[0;32m      3\u001b[0m class1_suffix\u001b[39m=\u001b[39msuffix[suffix[\u001b[39m'\u001b[39m\u001b[39mweight\u001b[39m\u001b[39m'\u001b[39m]\u001b[39m==\u001b[39m\u001b[39m1\u001b[39m]\n\u001b[0;32m      4\u001b[0m class2_suffix\u001b[39m=\u001b[39msuffix[suffix[\u001b[39m'\u001b[39m\u001b[39mweight\u001b[39m\u001b[39m'\u001b[39m]\u001b[39m==\u001b[39m\u001b[39m2\u001b[39m]\n",
      "File \u001b[1;32mc:\\Users\\soubhik\\AppData\\Local\\Programs\\Python\\Python311\\Lib\\site-packages\\pandas\\io\\excel\\_base.py:478\u001b[0m, in \u001b[0;36mread_excel\u001b[1;34m(io, sheet_name, header, names, index_col, usecols, dtype, engine, converters, true_values, false_values, skiprows, nrows, na_values, keep_default_na, na_filter, verbose, parse_dates, date_parser, date_format, thousands, decimal, comment, skipfooter, storage_options, dtype_backend)\u001b[0m\n\u001b[0;32m    476\u001b[0m \u001b[39mif\u001b[39;00m \u001b[39mnot\u001b[39;00m \u001b[39misinstance\u001b[39m(io, ExcelFile):\n\u001b[0;32m    477\u001b[0m     should_close \u001b[39m=\u001b[39m \u001b[39mTrue\u001b[39;00m\n\u001b[1;32m--> 478\u001b[0m     io \u001b[39m=\u001b[39m ExcelFile(io, storage_options\u001b[39m=\u001b[39;49mstorage_options, engine\u001b[39m=\u001b[39;49mengine)\n\u001b[0;32m    479\u001b[0m \u001b[39melif\u001b[39;00m engine \u001b[39mand\u001b[39;00m engine \u001b[39m!=\u001b[39m io\u001b[39m.\u001b[39mengine:\n\u001b[0;32m    480\u001b[0m     \u001b[39mraise\u001b[39;00m \u001b[39mValueError\u001b[39;00m(\n\u001b[0;32m    481\u001b[0m         \u001b[39m\"\u001b[39m\u001b[39mEngine should not be specified when passing \u001b[39m\u001b[39m\"\u001b[39m\n\u001b[0;32m    482\u001b[0m         \u001b[39m\"\u001b[39m\u001b[39man ExcelFile - ExcelFile already has the engine set\u001b[39m\u001b[39m\"\u001b[39m\n\u001b[0;32m    483\u001b[0m     )\n",
      "File \u001b[1;32mc:\\Users\\soubhik\\AppData\\Local\\Programs\\Python\\Python311\\Lib\\site-packages\\pandas\\io\\excel\\_base.py:1513\u001b[0m, in \u001b[0;36mExcelFile.__init__\u001b[1;34m(self, path_or_buffer, engine, storage_options)\u001b[0m\n\u001b[0;32m   1510\u001b[0m \u001b[39mself\u001b[39m\u001b[39m.\u001b[39mengine \u001b[39m=\u001b[39m engine\n\u001b[0;32m   1511\u001b[0m \u001b[39mself\u001b[39m\u001b[39m.\u001b[39mstorage_options \u001b[39m=\u001b[39m storage_options\n\u001b[1;32m-> 1513\u001b[0m \u001b[39mself\u001b[39m\u001b[39m.\u001b[39m_reader \u001b[39m=\u001b[39m \u001b[39mself\u001b[39;49m\u001b[39m.\u001b[39;49m_engines[engine](\u001b[39mself\u001b[39;49m\u001b[39m.\u001b[39;49m_io, storage_options\u001b[39m=\u001b[39;49mstorage_options)\n",
      "File \u001b[1;32mc:\\Users\\soubhik\\AppData\\Local\\Programs\\Python\\Python311\\Lib\\site-packages\\pandas\\io\\excel\\_openpyxl.py:548\u001b[0m, in \u001b[0;36mOpenpyxlReader.__init__\u001b[1;34m(self, filepath_or_buffer, storage_options)\u001b[0m\n\u001b[0;32m    533\u001b[0m \u001b[39m@doc\u001b[39m(storage_options\u001b[39m=\u001b[39m_shared_docs[\u001b[39m\"\u001b[39m\u001b[39mstorage_options\u001b[39m\u001b[39m\"\u001b[39m])\n\u001b[0;32m    534\u001b[0m \u001b[39mdef\u001b[39;00m \u001b[39m__init__\u001b[39m(\n\u001b[0;32m    535\u001b[0m     \u001b[39mself\u001b[39m,\n\u001b[0;32m    536\u001b[0m     filepath_or_buffer: FilePath \u001b[39m|\u001b[39m ReadBuffer[\u001b[39mbytes\u001b[39m],\n\u001b[0;32m    537\u001b[0m     storage_options: StorageOptions \u001b[39m=\u001b[39m \u001b[39mNone\u001b[39;00m,\n\u001b[0;32m    538\u001b[0m ) \u001b[39m-\u001b[39m\u001b[39m>\u001b[39m \u001b[39mNone\u001b[39;00m:\n\u001b[0;32m    539\u001b[0m \u001b[39m    \u001b[39m\u001b[39m\"\"\"\u001b[39;00m\n\u001b[0;32m    540\u001b[0m \u001b[39m    Reader using openpyxl engine.\u001b[39;00m\n\u001b[0;32m    541\u001b[0m \n\u001b[1;32m   (...)\u001b[0m\n\u001b[0;32m    546\u001b[0m \u001b[39m    {storage_options}\u001b[39;00m\n\u001b[0;32m    547\u001b[0m \u001b[39m    \"\"\"\u001b[39;00m\n\u001b[1;32m--> 548\u001b[0m     import_optional_dependency(\u001b[39m\"\u001b[39;49m\u001b[39mopenpyxl\u001b[39;49m\u001b[39m\"\u001b[39;49m)\n\u001b[0;32m    549\u001b[0m     \u001b[39msuper\u001b[39m()\u001b[39m.\u001b[39m\u001b[39m__init__\u001b[39m(filepath_or_buffer, storage_options\u001b[39m=\u001b[39mstorage_options)\n",
      "File \u001b[1;32mc:\\Users\\soubhik\\AppData\\Local\\Programs\\Python\\Python311\\Lib\\site-packages\\pandas\\compat\\_optional.py:145\u001b[0m, in \u001b[0;36mimport_optional_dependency\u001b[1;34m(name, extra, errors, min_version)\u001b[0m\n\u001b[0;32m    143\u001b[0m \u001b[39mexcept\u001b[39;00m \u001b[39mImportError\u001b[39;00m:\n\u001b[0;32m    144\u001b[0m     \u001b[39mif\u001b[39;00m errors \u001b[39m==\u001b[39m \u001b[39m\"\u001b[39m\u001b[39mraise\u001b[39m\u001b[39m\"\u001b[39m:\n\u001b[1;32m--> 145\u001b[0m         \u001b[39mraise\u001b[39;00m \u001b[39mImportError\u001b[39;00m(msg)\n\u001b[0;32m    146\u001b[0m     \u001b[39mreturn\u001b[39;00m \u001b[39mNone\u001b[39;00m\n\u001b[0;32m    148\u001b[0m \u001b[39m# Handle submodules: if we have submodule, grab parent module from sys.modules\u001b[39;00m\n",
      "\u001b[1;31mImportError\u001b[0m: Missing optional dependency 'openpyxl'.  Use pip or conda to install openpyxl."
     ]
    }
   ],
   "source": [
    "#fetch suffix\n",
    "suffix=pd.read_excel('suffix_set.xlsx')\n",
    "class1_suffix=suffix[suffix['weight']==1]\n",
    "class2_suffix=suffix[suffix['weight']==2]\n",
    "class3_suffix=suffix[suffix['weight']==3]\n",
    "# hybrid_suffix=suffix[suffix['weight'].isin([3,4])]"
   ]
  },
  {
   "cell_type": "code",
   "execution_count": 273,
   "id": "6d456995",
   "metadata": {},
   "outputs": [],
   "source": [
    "dictnary=pd.read_excel('root_words.xlsx')"
   ]
  },
  {
   "cell_type": "code",
   "execution_count": 274,
   "id": "9cd38748",
   "metadata": {},
   "outputs": [],
   "source": [
    "def checking(test_word):\n",
    "    global prediction_list\n",
    "    if dictnary['word'].isin([test_word]).any():\n",
    "        prediction_list.append(test_word)\n",
    "    else:\n",
    "        return(True)"
   ]
  },
  {
   "cell_type": "code",
   "execution_count": 275,
   "id": "f927103a",
   "metadata": {},
   "outputs": [],
   "source": [
    "def checking_with_translation(left_context,test_word,right_context):\n",
    "    root=[0.0,'']\n",
    "    translation_word=translator.translate(test_word).lower()\n",
    "    actual_window=left_context+\" \"+test_word+\" \"+right_context\n",
    "    translation_window=translator.translate(actual_window).lower()\n",
    "#     if(LCstring(translation_word,translation_window)/len(translation_word)>0.7):\n",
    "#         for predicted_word in prediction_list:\n",
    "#             translation_testword=translator.translate(predicted_word).lower()\n",
    "#             print(translation_testword,predicted_word)\n",
    "#             print(translation_word,test_word)\n",
    "#             accurecy=LCstring(translation_word,translation_testword)/len(translation_testword)\n",
    "#             print(LCstring(translation_word,translation_testword))\n",
    "#             print(accurecy)\n",
    "#             if(accurecy>=root[0]):\n",
    "#                 root[0]=accurecy\n",
    "#                 root[1]=predicted_word\n",
    "#     else:\n",
    "    for predicted_word in prediction_list:\n",
    "        test_window=left_context+\" \"+predicted_word+\" \"+right_context\n",
    "        translation_testwindow=translator.translate(test_window).lower()\n",
    "        accurecy=LCsequence(translation_window,translation_testwindow)/len(translation_testwindow)\n",
    "#       print(translation_testwindow,accurecy)\n",
    "        if accurecy>root[0]:\n",
    "            root[0]=accurecy\n",
    "            root[1]=predicted_word\n",
    "        elif accurecy==root[0]:\n",
    "            if(LCsequence(test_word,root[1])<=LCsequence(test_word,predicted_word)):\n",
    "                root[0]=accurecy\n",
    "                root[1]=predicted_word\n",
    "                \n",
    "    return(root[1])\n",
    "#     print(LCsequence(translation_window,translation_testword,len(translation_window),len(translation_testword)))\n",
    "#     print(LCsequence(translation_window,translation_testword,len(translation_window),len(translation_testword))/len(translation_testword))\n",
    "#     print(LCsequence(translation_window,translation_testword,len(translation_window),len(translation_testword))/abs(len(translation_testword)-len(translation_window)))\n",
    "#     print(abs(len(translation_testword)-len(translation_window))/LCsequence(translation_window,translation_testword))"
   ]
  },
  {
   "cell_type": "code",
   "execution_count": 276,
   "id": "be8939a0",
   "metadata": {},
   "outputs": [],
   "source": [
    "def predict_root(suffix,test_word):\n",
    "    predicted_root=[test_word+suffix for suffix in suffix.suffix]\n",
    "    for i in predicted_root:\n",
    "        if checking(i):\n",
    "            continue\n",
    "    return predicted_root"
   ]
  },
  {
   "cell_type": "code",
   "execution_count": 277,
   "id": "e2c98b74",
   "metadata": {},
   "outputs": [],
   "source": [
    "def remove_suffix(target_suffix,word):\n",
    "    final_suffix=''\n",
    "    #find actual suffix \n",
    "    #find longest suffix bettwen target_suffix that belongs at the end of given word \n",
    "    for i in target_suffix:\n",
    "        count=0\n",
    "        for j in range(-1,(-(len(i)+1)),-1):\n",
    "            if (word[j]==i[j]):\n",
    "                count+=1\n",
    "            else:\n",
    "                break\n",
    "        if(count==len(i)):\n",
    "            final_suffix=i\n",
    "            break\n",
    "        #remove suffix\n",
    "    if final_suffix:\n",
    "        SL_word=word.rstrip(final_suffix)    \n",
    "        return (SL_word)\n",
    "    else:\n",
    "        return (word)"
   ]
  },
  {
   "cell_type": "code",
   "execution_count": 278,
   "id": "3bbbca38",
   "metadata": {},
   "outputs": [],
   "source": [
    "def leematizer(context_word):\n",
    "    global prediction_list\n",
    "    container=[]\n",
    "    word=context_word\n",
    "    container.append(word)\n",
    "    print(\"input \",word)\n",
    "    checking(word)\n",
    "    #checking for direct root\n",
    "    if (class1_suffix['suffix'].isin([word[-1]]).any()):\n",
    "        #if there is any suffix of class 1 remove it\n",
    "        SL_word=remove_suffix(word[-1],word)\n",
    "        # SL_word denoted suffix_less_word\n",
    "        checking(SL_word)\n",
    "        predict_root(class1_suffix,SL_word)\n",
    "    index=[i in word for i  in class3_suffix.suffix]\n",
    "    # select class 3 suffix\n",
    "    if any(index):\n",
    "        # sort target suffix list in desc order of length\n",
    "        target_suffix=class3_suffix[index].suffix.tolist()\n",
    "        target_suffix.sort(key=len,reverse=True)\n",
    "        SL_word=remove_suffix(target_suffix,word)\n",
    "        #remove suffix\n",
    "        #SL_word denoted suffix_less_word\n",
    "        checking(SL_word)\n",
    "        word=SL_word\n",
    "        #if it is a root word declear rootword else check is there any other suffix present\n",
    "        container.append(word)\n",
    "    predict_root(class2_suffix,word) # select only class 1 suffix suffix that is in the word\n",
    "    index=[]\n",
    "    if len(word)>1 and (class1_suffix['suffix'].isin([word[-1]]).any()): #remove class 1 suffix suffix from end\n",
    "        SL_word=remove_suffix(word[-1],word)\n",
    "        checking(SL_word)\n",
    "        #if Sl_word is root word declear it or checck it with other suffix one by one\n",
    "        word=SL_word\n",
    "    predicted_subword=predict_root(class1_suffix,word)\n",
    "    for i in predicted_subword:\n",
    "        predict_root(class2_suffix,i)\n",
    "    prediction_list=[*set(prediction_list)]   #remove duplicate prediction \n",
    "    print(prediction_list)\n",
    "    if(len(prediction_list)==1): #if predicttion list contain only one prediction declear as root\n",
    "        print(context_word,'--->',prediction_list[0])\n",
    "    elif(len(prediction_list)>1): #if more than one check using meaning\n",
    "        root=checking_with_translation(left_context,context_word,right_context)\n",
    "        print(context_word,'--->',root)"
   ]
  },
  {
   "cell_type": "code",
   "execution_count": 285,
   "id": "ca2c5fb6",
   "metadata": {},
   "outputs": [],
   "source": [
    "words=[]\n",
    "#sentence1=\"ছাত্রজীবন মানব জীবনের প্রস্তুতিকাল। ছাত্রজীবনের ভিত্তির উপর ধীরে ধীরে মানবজীবনের কর্ম কৃতিত্বের সৌধটি গড়ে ওঠে। এই ভিত্তি সুদৃঢ় হবে, ভবিষ্যতে জীবন ও তত বলিষ্ঠ এবং সমৃদ্ধ হবে। মানব জীবনের ভিত্তি সুদৃঢ় করতে হলে ছাত্রজীবনে যত্নবান হতে হবে।তাই ছাত্রজীবনে লেখাপড়াও খেলাধুলার সঙ্গে সঙ্গে যেমন শরীর ও চরিত্র গঠন করতে হবে, তেমনি জগৎ ও জীবনের বহু বিচিত্র কর্মধারার সঙ্গে পরিচয় সাধন করতে হবে। এই পরিচয় সাধনের সূত্রই ছাত্রজীবনে সমাজকল্যাণ অথবা সমাজসেবা।\"\n",
    "#sentence1=\"সভ্যতার প্রথম উন্মেষ কালে আগুন আবিষ্কারের পরই সমাজ গঠন বোধকরি মানব সভ্যতার অন্যতম অবদান। তারপর থেকে সভ্যতার অগ্রগতি ও ক্রমবিকাশের সঙ্গে সঙ্গে গোষ্ঠীবদ্ধ মানুষ কতগুলি অলিখিত নিয়ম কানুন ও রীতিনীতি সূত্রে একে অন্যের সঙ্গে পরস্পর গাঁতা হয়ে পৃথিবীর এক এক অঞ্চলে একত্রে বসবাস করতে আরম্ভ করলো। এই ভাবেই একদিন সুসভ্য মানুষের সমাজ গড়ে উঠলো। সমাজের উদ্ভবের প্রথম দিন থেকেই মানুষ সমাজ সেবায় প্রয়োজন অনুভব করে। আজ সভ্যতার চরম উৎকর্ষের দিনেও মানব সমাজে এই সেবা ও সহযোগিতার প্রয়োজন এতটুকু কমেনি। সুতরাং সমাজসেবা বলতে সমাজের অন্তর্গত মানুষের সেবা ও কল্যাণকেই বোঝায়।\"\n",
    "sentence1=\"সমাজসেবার প্রয়োজন সব দেশে থাকলেও ভারতবর্ষের মতো দরিদ্র উন্নয়নশীল বিশাল দেশে এর গুরুত্ব সমাধি। ১০০ কোটি জন অধ্যুষিত এই বিশাল দেশের কোটি কোটি মানুষ নিদারুণ দুঃখ দুর্দশা ও অভাব-অনটনে নিপীড়িত। দেশের অনেক মানুষই আজও নিরক্ষরতার নিবিড় অন্ধকারে নিমজ্জিত। এর ওপর আছে প্রাকৃতিক বিপর্যয় ঝড়-ঝঞ্ঝা খরা, বন্যা, ভূমিকম্প, ও দুর্ভিক্ষ মহামারীর তান্ডব লীলা। বলা বাহুল্য, এদেশে এসব সমস্যার ও দুর্যোগ এর মোকাবিলা করার প্রাথমিক দায়িত্ব দেশের সরকারের বিশেষত আমাদের দেশে যখন জনকল্যাণমুখী গণতান্ত্রিক রাষ্ট্র প্রতিষ্ঠিত। কিন্তু কী অর্থে ,কি সামর্থ্যে এই বিরাট সমস্যার সমাধান করা রাষ্ট্রশক্তির একার পক্ষে কখনোই সম্ভব নয়। সেই দিক দিয়ে এদেশের সমাজ সেবার গুরুত্ব অপরিসীম।\"\n",
    "sentence2=\"পাঠিকা ঠাকুরানি নিজ গুণে ক্ষমা করবেন। মাতালের গল্প ছাড়া আমার গতি নেই।\"\n",
    "sentence1=sentence1.replace(\"-\",\" \")\n",
    "sentences=sentence1.split(\"।\")\n",
    "sentences\n",
    "for sentence in sentences:\n",
    "    words.extend(nltk.word_tokenize(sentence))"
   ]
  },
  {
   "cell_type": "code",
   "execution_count": null,
   "id": "f07eb843",
   "metadata": {
    "scrolled": true
   },
   "outputs": [
    {
     "name": "stdout",
     "output_type": "stream",
     "text": [
      "input  সমাজসেবার\n",
      "['সমাজসেবা']\n",
      "সমাজসেবার ---> সমাজসেবা\n",
      "input  প্রয়োজন\n",
      "['প্রয়োজন']\n",
      "প্রয়োজন ---> প্রয়োজন\n",
      "input  সব\n",
      "['সে', 'সব']\n"
     ]
    }
   ],
   "source": [
    "for i in words:\n",
    "    if len(i)<2:\n",
    "        words.remove(i)\n",
    "for word in words:\n",
    "    if words.index(word)==0:\n",
    "        left_context=''\n",
    "        right_context=words[words.index(word)+1]\n",
    "    elif words.index(word)==len(words)-1:\n",
    "        left_context=words[words.index(word)-1]\n",
    "        right_context=''\n",
    "    else:\n",
    "        left_context=words[words.index(word)-1]\n",
    "        right_context=words[words.index(word)+1]\n",
    "    prediction_list=[]\n",
    "    leematizer(word)            "
   ]
  },
  {
   "cell_type": "code",
   "execution_count": null,
   "id": "350fdf39",
   "metadata": {},
   "outputs": [],
   "source": [
    "word='সেবায়'\n",
    "print(word.)\n",
    "leematizer(word)\n"
   ]
  },
  {
   "cell_type": "code",
   "execution_count": null,
   "id": "10729446",
   "metadata": {},
   "outputs": [],
   "source": [
    "prediction_list=[]\n",
    "container=[]\n",
    "leematizer('আমাকে')\n",
    "translation_window=translator.translate('সে আমাকে বলেছিল').lower()\n",
    "print(translation_window)\n",
    "for translation_testword in ['আমি', 'আম']:\n",
    "    translation_testword=translator.translate('সে '+translation_testword+' বলেছিল').lower()\n",
    "    print(translation_testword)\n",
    "    print(LCsequence(translation_window,translation_testword)/len(translation_testword))\n",
    "#     print(LCsequence(translation_window,translation_testword,len(translation_window),len(translation_testword)))\n",
    "#    print(LCsequence(translation_window,translation_testword,len(translation_window),len(translation_testword))/len(translation_testword))\n",
    "#     print(LCsequence(translation_window,translation_testword,len(translation_window),len(translation_testword))/abs(len(translation_testword)-len(translation_window)))\n",
    "    print(abs(len(translation_testword)-len(translation_window))/LCsequence(translation_window,translation_testword))"
   ]
  },
  {
   "cell_type": "code",
   "execution_count": null,
   "id": "40fff1af",
   "metadata": {},
   "outputs": [],
   "source": [
    "prediction_list=[]\n",
    "container=[]\n",
    "leematizer('গায়ের')\n",
    "\n",
    "translation_window=translator.translate('তার গায়ের রঙ ').lower()\n",
    "print(translation_window)\n",
    "for translation_testword in ['গাওয়া', 'গা']:\n",
    "    translation_testword=translator.translate('তারে '+translation_testword+' রঙ').lower()\n",
    "    print(translation_testword)\n",
    "# print(LCsequence(translation_window,translation_testword,len(translation_window),len(translation_testword)))\n",
    "    print(LCsequence(translation_window,translation_testword)/len(translation_testword))\n",
    "#     print(LCsequence(translation_window,translation_testword,len(translation_window),len(translation_testword))/abs(len(translation_testword)-len(translation_window)))\n",
    "    print(abs(len(translation_testword)-len(translation_window))/LCsequence(translation_window,translation_testword))"
   ]
  },
  {
   "cell_type": "code",
   "execution_count": null,
   "id": "f5b40831",
   "metadata": {},
   "outputs": [],
   "source": [
    "translation_testword=translator.translate('তারে গাওয়া রঙ').lower()\n",
    "translation_window='the color of his skin'\n",
    "if translation_testword:\n",
    "    print(translation_testword)\n",
    "print(abs(len(translation_testword)-len(translation_window))/LCsequence(translation_window,translation_testword))"
   ]
  }
 ],
 "metadata": {
  "kernelspec": {
   "display_name": "Python 3 (ipykernel)",
   "language": "python",
   "name": "python3"
  },
  "language_info": {
   "codemirror_mode": {
    "name": "ipython",
    "version": 3
   },
   "file_extension": ".py",
   "mimetype": "text/x-python",
   "name": "python",
   "nbconvert_exporter": "python",
   "pygments_lexer": "ipython3",
   "version": "3.11.3"
  }
 },
 "nbformat": 4,
 "nbformat_minor": 5
}
