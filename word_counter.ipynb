{
 "cells": [
  {
   "cell_type": "code",
   "execution_count": 4,
   "metadata": {},
   "outputs": [],
   "source": [
    "import csv\n",
    "import openpyxl\n",
    "\n",
    "def count_words_in_csv(csv_file):\n",
    "    word_count = 0\n",
    "\n",
    "    with open(csv_file, 'r', encoding='utf-8') as file:\n",
    "        csv_reader = csv.reader(file)\n",
    "\n",
    "        for row in csv_reader:\n",
    "            for word in row:\n",
    "                word_count += len(word.split())\n",
    "\n",
    "    return word_count\n",
    "\n",
    "def count_lines_in_csv(csv_file):\n",
    "    line_count = 0\n",
    "\n",
    "    with open(csv_file, 'r', encoding='utf-8') as file:\n",
    "        csv_reader = csv.reader(file)\n",
    "        \n",
    "        # Iterate over each row in the CSV file\n",
    "        for row in csv_reader:\n",
    "            line_count += 1\n",
    "\n",
    "    return line_count\n",
    "\n",
    "\n",
    "def count_lines_in_xlsx(xlsx_file):\n",
    "    line_count = 0\n",
    "\n",
    "    workbook = openpyxl.load_workbook(xlsx_file)\n",
    "    sheet = workbook.active\n",
    "\n",
    "    for row in sheet.iter_rows():\n",
    "        line_count += 1\n",
    "\n",
    "    return line_count\n",
    "\n"
   ]
  },
  {
   "cell_type": "code",
   "execution_count": 5,
   "metadata": {},
   "outputs": [
    {
     "name": "stdout",
     "output_type": "stream",
     "text": [
      "Number of root words: 1038\n",
      "Number of inflicted words: 586\n"
     ]
    }
   ],
   "source": [
    "csv_file_path = 'word_collection.csv'\n",
    "num_lines = count_lines_in_csv(csv_file_path)\n",
    "print(f\"Number of root words: {num_lines}\")\n",
    "\n",
    "num_words = count_words_in_csv(csv_file_path) - num_lines\n",
    "print(f\"Number of inflicted words: {num_words}\")"
   ]
  },
  {
   "cell_type": "code",
   "execution_count": 6,
   "metadata": {},
   "outputs": [
    {
     "name": "stdout",
     "output_type": "stream",
     "text": [
      "Number of lines in the XLSX file: 1047\n"
     ]
    }
   ],
   "source": [
    "xlsx_file_path = 'root_words.xlsx'\n",
    "num_lines = count_lines_in_xlsx(xlsx_file_path)\n",
    "print(f\"Number of lines in the XLSX file: {num_lines}\")"
   ]
  }
 ],
 "metadata": {
  "kernelspec": {
   "display_name": "Python 3",
   "language": "python",
   "name": "python3"
  },
  "language_info": {
   "codemirror_mode": {
    "name": "ipython",
    "version": 3
   },
   "file_extension": ".py",
   "mimetype": "text/x-python",
   "name": "python",
   "nbconvert_exporter": "python",
   "pygments_lexer": "ipython3",
   "version": "3.11.3"
  },
  "orig_nbformat": 4
 },
 "nbformat": 4,
 "nbformat_minor": 2
}
